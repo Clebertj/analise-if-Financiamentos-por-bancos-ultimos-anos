{
 "cells": [
  {
   "cell_type": "code",
   "execution_count": null,
   "id": "9b9a9331",
   "metadata": {},
   "outputs": [],
   "source": [
    "#crindo arquivo de analise"
   ]
  },
  {
   "cell_type": "code",
   "execution_count": 1,
   "id": "afe5eae6",
   "metadata": {},
   "outputs": [],
   "source": [
    "import pandas as pd\n",
    "# sep=informar o python que o separador é\";\"\" encoding do excel é cp1252"
   ]
  },
  {
   "cell_type": "code",
   "execution_count": 2,
   "id": "4c96135d",
   "metadata": {},
   "outputs": [
    {
     "name": "stderr",
     "output_type": "stream",
     "text": [
      "C:\\Users\\CLEBER MORAES\\anaconda3\\lib\\site-packages\\IPython\\core\\interactiveshell.py:3444: DtypeWarning: Columns (2,3,8,9,14) have mixed types.Specify dtype option on import or set low_memory=False.\n",
      "  exec(code_obj, self.user_global_ns, self.user_ns)\n"
     ]
    },
    {
     "data": {
      "text/html": [
       "<div>\n",
       "<style scoped>\n",
       "    .dataframe tbody tr th:only-of-type {\n",
       "        vertical-align: middle;\n",
       "    }\n",
       "\n",
       "    .dataframe tbody tr th {\n",
       "        vertical-align: top;\n",
       "    }\n",
       "\n",
       "    .dataframe thead th {\n",
       "        text-align: right;\n",
       "    }\n",
       "</style>\n",
       "<table border=\"1\" class=\"dataframe\">\n",
       "  <thead>\n",
       "    <tr style=\"text-align: right;\">\n",
       "      <th></th>\n",
       "      <th>DT_COMPETENCIA</th>\n",
       "      <th>NU_MATRICULA_EFPC</th>\n",
       "      <th>SG_EFPC</th>\n",
       "      <th>IN_ESTAT_PLANO_EFPC</th>\n",
       "      <th>ID_PLANO</th>\n",
       "      <th>CNPB</th>\n",
       "      <th>ID_BENEFICIO</th>\n",
       "      <th>NU_BENEFICIO</th>\n",
       "      <th>NM_BENEFICIO</th>\n",
       "      <th>TE_NIVEL</th>\n",
       "      <th>QT_ANTERIOR</th>\n",
       "      <th>QT_ENTRADAS</th>\n",
       "      <th>QT_SAIDAS</th>\n",
       "      <th>QT_ATUAL</th>\n",
       "      <th>DT_EXTRACAO</th>\n",
       "    </tr>\n",
       "  </thead>\n",
       "  <tbody>\n",
       "    <tr>\n",
       "      <th>0</th>\n",
       "      <td>202001.0</td>\n",
       "      <td>4532.0</td>\n",
       "      <td>ALEPEPREV</td>\n",
       "      <td>EFPC</td>\n",
       "      <td>NaN</td>\n",
       "      <td>NaN</td>\n",
       "      <td>12.0</td>\n",
       "      <td>17000.0</td>\n",
       "      <td>Outros Benefícios de Prestação Conituada</td>\n",
       "      <td>FOLHA</td>\n",
       "      <td>NaN</td>\n",
       "      <td>NaN</td>\n",
       "      <td>NaN</td>\n",
       "      <td>NaN</td>\n",
       "      <td>23/11/2020</td>\n",
       "    </tr>\n",
       "    <tr>\n",
       "      <th>1</th>\n",
       "      <td>202001.0</td>\n",
       "      <td>802.0</td>\n",
       "      <td>PREVIRB</td>\n",
       "      <td>EFPC</td>\n",
       "      <td>NaN</td>\n",
       "      <td>NaN</td>\n",
       "      <td>12.0</td>\n",
       "      <td>17000.0</td>\n",
       "      <td>Outros Benefícios de Prestação Conituada</td>\n",
       "      <td>FOLHA</td>\n",
       "      <td>NaN</td>\n",
       "      <td>NaN</td>\n",
       "      <td>NaN</td>\n",
       "      <td>NaN</td>\n",
       "      <td>23/11/2020</td>\n",
       "    </tr>\n",
       "    <tr>\n",
       "      <th>2</th>\n",
       "      <td>202001.0</td>\n",
       "      <td>2659.0</td>\n",
       "      <td>FABASA</td>\n",
       "      <td>EFPC</td>\n",
       "      <td>NaN</td>\n",
       "      <td>NaN</td>\n",
       "      <td>12.0</td>\n",
       "      <td>17000.0</td>\n",
       "      <td>Outros Benefícios de Prestação Conituada</td>\n",
       "      <td>FOLHA</td>\n",
       "      <td>NaN</td>\n",
       "      <td>NaN</td>\n",
       "      <td>NaN</td>\n",
       "      <td>NaN</td>\n",
       "      <td>23/11/2020</td>\n",
       "    </tr>\n",
       "    <tr>\n",
       "      <th>3</th>\n",
       "      <td>202001.0</td>\n",
       "      <td>3161.0</td>\n",
       "      <td>FAECES</td>\n",
       "      <td>EFPC</td>\n",
       "      <td>NaN</td>\n",
       "      <td>NaN</td>\n",
       "      <td>12.0</td>\n",
       "      <td>17000.0</td>\n",
       "      <td>Outros Benefícios de Prestação Conituada</td>\n",
       "      <td>FOLHA</td>\n",
       "      <td>NaN</td>\n",
       "      <td>NaN</td>\n",
       "      <td>NaN</td>\n",
       "      <td>NaN</td>\n",
       "      <td>23/11/2020</td>\n",
       "    </tr>\n",
       "    <tr>\n",
       "      <th>4</th>\n",
       "      <td>202001.0</td>\n",
       "      <td>1362.0</td>\n",
       "      <td>FACEAL</td>\n",
       "      <td>EFPC</td>\n",
       "      <td>NaN</td>\n",
       "      <td>NaN</td>\n",
       "      <td>12.0</td>\n",
       "      <td>17000.0</td>\n",
       "      <td>Outros Benefícios de Prestação Conituada</td>\n",
       "      <td>FOLHA</td>\n",
       "      <td>NaN</td>\n",
       "      <td>NaN</td>\n",
       "      <td>NaN</td>\n",
       "      <td>NaN</td>\n",
       "      <td>23/11/2020</td>\n",
       "    </tr>\n",
       "  </tbody>\n",
       "</table>\n",
       "</div>"
      ],
      "text/plain": [
       "   DT_COMPETENCIA  NU_MATRICULA_EFPC    SG_EFPC IN_ESTAT_PLANO_EFPC  ID_PLANO  \\\n",
       "0        202001.0             4532.0  ALEPEPREV                EFPC       NaN   \n",
       "1        202001.0              802.0    PREVIRB                EFPC       NaN   \n",
       "2        202001.0             2659.0     FABASA                EFPC       NaN   \n",
       "3        202001.0             3161.0     FAECES                EFPC       NaN   \n",
       "4        202001.0             1362.0     FACEAL                EFPC       NaN   \n",
       "\n",
       "   CNPB  ID_BENEFICIO  NU_BENEFICIO                              NM_BENEFICIO  \\\n",
       "0   NaN          12.0       17000.0  Outros Benefícios de Prestação Conituada   \n",
       "1   NaN          12.0       17000.0  Outros Benefícios de Prestação Conituada   \n",
       "2   NaN          12.0       17000.0  Outros Benefícios de Prestação Conituada   \n",
       "3   NaN          12.0       17000.0  Outros Benefícios de Prestação Conituada   \n",
       "4   NaN          12.0       17000.0  Outros Benefícios de Prestação Conituada   \n",
       "\n",
       "  TE_NIVEL  QT_ANTERIOR  QT_ENTRADAS  QT_SAIDAS  QT_ATUAL DT_EXTRACAO  \n",
       "0    FOLHA          NaN          NaN        NaN       NaN  23/11/2020  \n",
       "1    FOLHA          NaN          NaN        NaN       NaN  23/11/2020  \n",
       "2    FOLHA          NaN          NaN        NaN       NaN  23/11/2020  \n",
       "3    FOLHA          NaN          NaN        NaN       NaN  23/11/2020  \n",
       "4    FOLHA          NaN          NaN        NaN       NaN  23/11/2020  "
      ]
     },
     "execution_count": 2,
     "metadata": {},
     "output_type": "execute_result"
    }
   ],
   "source": [
    "df=pd\n",
    "df = pd.read_csv('EPB 2020_SEM01.csv', sep=';', encoding='cp1252')\n",
    "df.head()"
   ]
  },
  {
   "cell_type": "code",
   "execution_count": 3,
   "id": "f3deb985",
   "metadata": {},
   "outputs": [
    {
     "data": {
      "text/plain": [
       "DT_COMPETENCIA         120879\n",
       "NU_MATRICULA_EFPC      120879\n",
       "SG_EFPC                120879\n",
       "IN_ESTAT_PLANO_EFPC    120879\n",
       "ID_PLANO                96721\n",
       "CNPB                    96721\n",
       "ID_BENEFICIO           120879\n",
       "NU_BENEFICIO           120879\n",
       "NM_BENEFICIO           120879\n",
       "TE_NIVEL               120879\n",
       "QT_ANTERIOR             67238\n",
       "QT_ENTRADAS             29226\n",
       "QT_SAIDAS               28212\n",
       "QT_ATUAL                68036\n",
       "DT_EXTRACAO            120879\n",
       "dtype: int64"
      ]
     },
     "execution_count": 3,
     "metadata": {},
     "output_type": "execute_result"
    }
   ],
   "source": [
    "df.count()"
   ]
  },
  {
   "cell_type": "code",
   "execution_count": 5,
   "id": "12beebd1",
   "metadata": {},
   "outputs": [
    {
     "data": {
      "text/html": [
       "<div>\n",
       "<style scoped>\n",
       "    .dataframe tbody tr th:only-of-type {\n",
       "        vertical-align: middle;\n",
       "    }\n",
       "\n",
       "    .dataframe tbody tr th {\n",
       "        vertical-align: top;\n",
       "    }\n",
       "\n",
       "    .dataframe thead th {\n",
       "        text-align: right;\n",
       "    }\n",
       "</style>\n",
       "<table border=\"1\" class=\"dataframe\">\n",
       "  <thead>\n",
       "    <tr style=\"text-align: right;\">\n",
       "      <th></th>\n",
       "      <th>DT_COMPETENCIA</th>\n",
       "      <th>NU_MATRICULA_EFPC</th>\n",
       "      <th>ID_PLANO</th>\n",
       "      <th>CNPB</th>\n",
       "      <th>ID_BENEFICIO</th>\n",
       "      <th>NU_BENEFICIO</th>\n",
       "      <th>QT_ANTERIOR</th>\n",
       "      <th>QT_ENTRADAS</th>\n",
       "      <th>QT_SAIDAS</th>\n",
       "      <th>QT_ATUAL</th>\n",
       "    </tr>\n",
       "  </thead>\n",
       "  <tbody>\n",
       "    <tr>\n",
       "      <th>count</th>\n",
       "      <td>120879.000000</td>\n",
       "      <td>120879.000000</td>\n",
       "      <td>96721.000000</td>\n",
       "      <td>9.672100e+04</td>\n",
       "      <td>120879.000000</td>\n",
       "      <td>120879.000000</td>\n",
       "      <td>67238.000000</td>\n",
       "      <td>29226.000000</td>\n",
       "      <td>28212.000000</td>\n",
       "      <td>68036.000000</td>\n",
       "    </tr>\n",
       "    <tr>\n",
       "      <th>mean</th>\n",
       "      <td>202003.497936</td>\n",
       "      <td>2193.376451</td>\n",
       "      <td>1436.609992</td>\n",
       "      <td>1.999874e+09</td>\n",
       "      <td>14.280255</td>\n",
       "      <td>21727.924619</td>\n",
       "      <td>2142.984369</td>\n",
       "      <td>60.492712</td>\n",
       "      <td>50.274599</td>\n",
       "      <td>2122.987771</td>\n",
       "    </tr>\n",
       "    <tr>\n",
       "      <th>std</th>\n",
       "      <td>1.710082</td>\n",
       "      <td>1343.277105</td>\n",
       "      <td>1709.677318</td>\n",
       "      <td>1.121810e+07</td>\n",
       "      <td>7.438668</td>\n",
       "      <td>9465.565831</td>\n",
       "      <td>10361.153247</td>\n",
       "      <td>692.762387</td>\n",
       "      <td>594.361977</td>\n",
       "      <td>10318.164386</td>\n",
       "    </tr>\n",
       "    <tr>\n",
       "      <th>min</th>\n",
       "      <td>202001.000000</td>\n",
       "      <td>14.000000</td>\n",
       "      <td>1.000000</td>\n",
       "      <td>1.904000e+09</td>\n",
       "      <td>4.000000</td>\n",
       "      <td>11000.000000</td>\n",
       "      <td>1.000000</td>\n",
       "      <td>1.000000</td>\n",
       "      <td>1.000000</td>\n",
       "      <td>1.000000</td>\n",
       "    </tr>\n",
       "    <tr>\n",
       "      <th>25%</th>\n",
       "      <td>202002.000000</td>\n",
       "      <td>1167.000000</td>\n",
       "      <td>356.000000</td>\n",
       "      <td>1.993002e+09</td>\n",
       "      <td>7.000000</td>\n",
       "      <td>12000.000000</td>\n",
       "      <td>13.000000</td>\n",
       "      <td>1.000000</td>\n",
       "      <td>2.000000</td>\n",
       "      <td>12.000000</td>\n",
       "    </tr>\n",
       "    <tr>\n",
       "      <th>50%</th>\n",
       "      <td>202003.000000</td>\n",
       "      <td>2004.000000</td>\n",
       "      <td>746.000000</td>\n",
       "      <td>2.000005e+09</td>\n",
       "      <td>12.000000</td>\n",
       "      <td>17000.000000</td>\n",
       "      <td>117.000000</td>\n",
       "      <td>4.000000</td>\n",
       "      <td>4.000000</td>\n",
       "      <td>114.000000</td>\n",
       "    </tr>\n",
       "    <tr>\n",
       "      <th>75%</th>\n",
       "      <td>202005.000000</td>\n",
       "      <td>3188.000000</td>\n",
       "      <td>1469.000000</td>\n",
       "      <td>2.008003e+09</td>\n",
       "      <td>22.000000</td>\n",
       "      <td>31300.000000</td>\n",
       "      <td>819.000000</td>\n",
       "      <td>13.000000</td>\n",
       "      <td>17.000000</td>\n",
       "      <td>804.000000</td>\n",
       "    </tr>\n",
       "    <tr>\n",
       "      <th>max</th>\n",
       "      <td>202006.000000</td>\n",
       "      <td>4861.000000</td>\n",
       "      <td>6785.000000</td>\n",
       "      <td>2.020001e+09</td>\n",
       "      <td>25.000000</td>\n",
       "      <td>34000.000000</td>\n",
       "      <td>314458.000000</td>\n",
       "      <td>31073.000000</td>\n",
       "      <td>31743.000000</td>\n",
       "      <td>316280.000000</td>\n",
       "    </tr>\n",
       "  </tbody>\n",
       "</table>\n",
       "</div>"
      ],
      "text/plain": [
       "       DT_COMPETENCIA  NU_MATRICULA_EFPC      ID_PLANO          CNPB  \\\n",
       "count   120879.000000      120879.000000  96721.000000  9.672100e+04   \n",
       "mean    202003.497936        2193.376451   1436.609992  1.999874e+09   \n",
       "std          1.710082        1343.277105   1709.677318  1.121810e+07   \n",
       "min     202001.000000          14.000000      1.000000  1.904000e+09   \n",
       "25%     202002.000000        1167.000000    356.000000  1.993002e+09   \n",
       "50%     202003.000000        2004.000000    746.000000  2.000005e+09   \n",
       "75%     202005.000000        3188.000000   1469.000000  2.008003e+09   \n",
       "max     202006.000000        4861.000000   6785.000000  2.020001e+09   \n",
       "\n",
       "        ID_BENEFICIO   NU_BENEFICIO    QT_ANTERIOR   QT_ENTRADAS  \\\n",
       "count  120879.000000  120879.000000   67238.000000  29226.000000   \n",
       "mean       14.280255   21727.924619    2142.984369     60.492712   \n",
       "std         7.438668    9465.565831   10361.153247    692.762387   \n",
       "min         4.000000   11000.000000       1.000000      1.000000   \n",
       "25%         7.000000   12000.000000      13.000000      1.000000   \n",
       "50%        12.000000   17000.000000     117.000000      4.000000   \n",
       "75%        22.000000   31300.000000     819.000000     13.000000   \n",
       "max        25.000000   34000.000000  314458.000000  31073.000000   \n",
       "\n",
       "          QT_SAIDAS       QT_ATUAL  \n",
       "count  28212.000000   68036.000000  \n",
       "mean      50.274599    2122.987771  \n",
       "std      594.361977   10318.164386  \n",
       "min        1.000000       1.000000  \n",
       "25%        2.000000      12.000000  \n",
       "50%        4.000000     114.000000  \n",
       "75%       17.000000     804.000000  \n",
       "max    31743.000000  316280.000000  "
      ]
     },
     "execution_count": 5,
     "metadata": {},
     "output_type": "execute_result"
    }
   ],
   "source": [
    "# describe descreve min, max media\n",
    "df.describe()"
   ]
  },
  {
   "cell_type": "code",
   "execution_count": 6,
   "id": "d9af6ca0",
   "metadata": {},
   "outputs": [
    {
     "data": {
      "text/plain": [
       "DT_COMPETENCIA         float64\n",
       "NU_MATRICULA_EFPC      float64\n",
       "SG_EFPC                 object\n",
       "IN_ESTAT_PLANO_EFPC     object\n",
       "ID_PLANO               float64\n",
       "CNPB                   float64\n",
       "ID_BENEFICIO           float64\n",
       "NU_BENEFICIO           float64\n",
       "NM_BENEFICIO            object\n",
       "TE_NIVEL                object\n",
       "QT_ANTERIOR            float64\n",
       "QT_ENTRADAS            float64\n",
       "QT_SAIDAS              float64\n",
       "QT_ATUAL               float64\n",
       "DT_EXTRACAO             object\n",
       "dtype: object"
      ]
     },
     "execution_count": 6,
     "metadata": {},
     "output_type": "execute_result"
    }
   ],
   "source": [
    "# dtypes mostra tipos de arquivo das colunas\n",
    "\n",
    "df.dtypes"
   ]
  },
  {
   "cell_type": "code",
   "execution_count": 8,
   "id": "b56fa2ec",
   "metadata": {},
   "outputs": [
    {
     "data": {
      "text/plain": [
       "MULTIBRA          12576\n",
       "MULTIPREV          6474\n",
       "BB PREVIDENCIA     4672\n",
       "ICATUFMP           3904\n",
       "IFM                3840\n",
       "                  ...  \n",
       "FAPIEB              108\n",
       "MÚTUOPREV           101\n",
       "ORIUS                98\n",
       "FAPECE               98\n",
       "SOMUPP               72\n",
       "Name: SG_EFPC, Length: 269, dtype: int64"
      ]
     },
     "execution_count": 8,
     "metadata": {},
     "output_type": "execute_result"
    }
   ],
   "source": [
    "# traz a informação de quantos tipo por linha e contar os repetidos (as veses que aparececem )\n",
    "df['SG_EFPC'].value_counts()"
   ]
  },
  {
   "cell_type": "code",
   "execution_count": 9,
   "id": "5ccaa692",
   "metadata": {},
   "outputs": [
    {
     "data": {
      "text/plain": [
       "0         ALEPEPREV\n",
       "1           PREVIRB\n",
       "2            FABASA\n",
       "3            FAECES\n",
       "4            FACEAL\n",
       "            ...    \n",
       "299995          NaN\n",
       "299996          NaN\n",
       "299997          NaN\n",
       "299998          NaN\n",
       "299999          NaN\n",
       "Name: SG_EFPC, Length: 300000, dtype: object"
      ]
     },
     "execution_count": 9,
     "metadata": {},
     "output_type": "execute_result"
    }
   ],
   "source": [
    "#especifica o que vou ver e retorno o basico\n",
    "df['SG_EFPC']"
   ]
  },
  {
   "cell_type": "code",
   "execution_count": 12,
   "id": "a945288e",
   "metadata": {},
   "outputs": [
    {
     "data": {
      "text/plain": [
       "Designados                                                   8155\n",
       "Assistidos - Aposentados                                     8142\n",
       "Participantes Ativos                                         8136\n",
       "Aposentadoria - Prestação Continuada (totalizador)           8117\n",
       "Assistidos - Beneficiários de Pensão                         8097\n",
       "Aposentadoria programada                                     8089\n",
       "Pensões                                                      8062\n",
       "Aposentadoria por Invalidez                                  7859\n",
       "Participante - com custeio patronal e do participante        7806\n",
       "Participante - com custeio exclusivamente do participante    7333\n",
       "Pecúlios                                                     7159\n",
       "Outros Benefícios de Prestação Única                         7039\n",
       "Participante - com custeio exclusivamente patronal           6970\n",
       "Outros Benefícios de Prestação Conituada                     6823\n",
       "Auxílios - Prestação Continuada                              6778\n",
       "Auxílios - Prestação Única                                   6314\n",
       "Name: NM_BENEFICIO, dtype: int64"
      ]
     },
     "execution_count": 12,
     "metadata": {},
     "output_type": "execute_result"
    }
   ],
   "source": [
    "df['NM_BENEFICIO'].value_counts()"
   ]
  },
  {
   "cell_type": "code",
   "execution_count": 15,
   "id": "3b999f1e",
   "metadata": {},
   "outputs": [
    {
     "data": {
      "text/plain": [
       "<AxesSubplot:>"
      ]
     },
     "execution_count": 15,
     "metadata": {},
     "output_type": "execute_result"
    },
    {
     "data": {
      "image/png": "[encoded data removed]",
      "text/plain": [
       "<Figure size 432x288 with 1 Axes>"
      ]
     },
     "metadata": {
      "needs_background": "light"
     },
     "output_type": "display_data"
    }
   ],
   "source": [
    "#mostrar dados em grafico e mostrar aqui aqui\n",
    "\n",
    "%matplotlib inline\n",
    "\n",
    "df['NM_BENEFICIO'].value_counts().plot.bar()\n"
   ]
  },
  {
   "cell_type": "code",
   "execution_count": null,
   "id": "16a867a7",
   "metadata": {},
   "outputs": [],
   "source": []
  }
 ],
 "metadata": {
  "kernelspec": {
   "display_name": "Python 3 (ipykernel)",
   "language": "python",
   "name": "python3"
  },
  "language_info": {
   "codemirror_mode": {
    "name": "ipython",
    "version": 3
   },
   "file_extension": ".py",
   "mimetype": "text/x-python",
   "name": "python",
   "nbconvert_exporter": "python",
   "pygments_lexer": "ipython3",
   "version": "3.9.7"
  }
 },
 "nbformat": 4,
 "nbformat_minor": 5
}
